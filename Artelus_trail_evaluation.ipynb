{
 "cells": [
  {
   "cell_type": "code",
   "execution_count": 1,
   "id": "05b2a4f3",
   "metadata": {},
   "outputs": [],
   "source": [
    "#importing libraries \n",
    "import pandas as pd\n",
    "import numpy as np\n",
    "import seaborn as sns\n",
    "import matplotlib.pyplot as plt\n",
    "from sklearn.metrics import confusion_matrix\n",
    "from sklearn.metrics import classification_report,plot_confusion_matrix, roc_auc_score,cohen_kappa_score"
   ]
  },
  {
   "cell_type": "code",
   "execution_count": 22,
   "id": "3b1938c7",
   "metadata": {},
   "outputs": [],
   "source": [
    "df = pd.read_csv('C:/Users/mkhan/Desktop/musabi/OCT_project/test_1000_predictions.csv')"
   ]
  },
  {
   "cell_type": "code",
   "execution_count": 20,
   "id": "2bc790ce",
   "metadata": {},
   "outputs": [
    {
     "name": "stdout",
     "output_type": "stream",
     "text": [
      "count of class0 393\n",
      "count of class1  200\n",
      "count of class2  144\n",
      "count of  class3 263\n",
      "count of class4 0\n"
     ]
    }
   ],
   "source": [
    "count0_sush = (df['pred'] == 0).sum()\n",
    "count1_sush = (df['pred'] == 1).sum()\n",
    "count2_sush = (df['pred'] == 2).sum()\n",
    "count3_sush = (df['pred'] == 3).sum()\n",
    "count4_sush = (df['pred'] == 4).sum()\n",
    "\n",
    "print('count of class0',count0_sush)\n",
    "print('count of class1 ',count1_sush)\n",
    "print('count of class2 ', count2_sush)\n",
    "print('count of  class3',count3_sush)\n",
    "print('count of class4', count4_sush)\n",
    "\n"
   ]
  },
  {
   "cell_type": "code",
   "execution_count": 4,
   "id": "4701de5f",
   "metadata": {},
   "outputs": [
    {
     "data": {
      "text/html": [
       "<div>\n",
       "<style scoped>\n",
       "    .dataframe tbody tr th:only-of-type {\n",
       "        vertical-align: middle;\n",
       "    }\n",
       "\n",
       "    .dataframe tbody tr th {\n",
       "        vertical-align: top;\n",
       "    }\n",
       "\n",
       "    .dataframe thead th {\n",
       "        text-align: right;\n",
       "    }\n",
       "</style>\n",
       "<table border=\"1\" class=\"dataframe\">\n",
       "  <thead>\n",
       "    <tr style=\"text-align: right;\">\n",
       "      <th></th>\n",
       "      <th>0</th>\n",
       "      <th>1</th>\n",
       "      <th>2</th>\n",
       "      <th>3</th>\n",
       "      <th>4</th>\n",
       "      <th>ground_truth</th>\n",
       "      <th>pred</th>\n",
       "    </tr>\n",
       "  </thead>\n",
       "  <tbody>\n",
       "    <tr>\n",
       "      <th>0</th>\n",
       "      <td>0.997043</td>\n",
       "      <td>2.906327e-03</td>\n",
       "      <td>6.410000e-07</td>\n",
       "      <td>6.990000e-07</td>\n",
       "      <td>4.930000e-05</td>\n",
       "      <td>0</td>\n",
       "      <td>0</td>\n",
       "    </tr>\n",
       "    <tr>\n",
       "      <th>1</th>\n",
       "      <td>1.000000</td>\n",
       "      <td>1.850000e-08</td>\n",
       "      <td>1.950000e-08</td>\n",
       "      <td>7.380000e-10</td>\n",
       "      <td>2.110000e-08</td>\n",
       "      <td>0</td>\n",
       "      <td>0</td>\n",
       "    </tr>\n",
       "    <tr>\n",
       "      <th>2</th>\n",
       "      <td>1.000000</td>\n",
       "      <td>1.100000e-09</td>\n",
       "      <td>8.580000e-11</td>\n",
       "      <td>1.970000e-10</td>\n",
       "      <td>7.100000e-09</td>\n",
       "      <td>0</td>\n",
       "      <td>0</td>\n",
       "    </tr>\n",
       "    <tr>\n",
       "      <th>3</th>\n",
       "      <td>0.013942</td>\n",
       "      <td>9.564525e-01</td>\n",
       "      <td>2.772120e-04</td>\n",
       "      <td>4.292692e-03</td>\n",
       "      <td>2.503524e-02</td>\n",
       "      <td>0</td>\n",
       "      <td>1</td>\n",
       "    </tr>\n",
       "    <tr>\n",
       "      <th>4</th>\n",
       "      <td>0.999881</td>\n",
       "      <td>2.290000e-05</td>\n",
       "      <td>7.940000e-06</td>\n",
       "      <td>1.400000e-06</td>\n",
       "      <td>8.660000e-05</td>\n",
       "      <td>0</td>\n",
       "      <td>0</td>\n",
       "    </tr>\n",
       "  </tbody>\n",
       "</table>\n",
       "</div>"
      ],
      "text/plain": [
       "          0             1             2             3             4  \\\n",
       "0  0.997043  2.906327e-03  6.410000e-07  6.990000e-07  4.930000e-05   \n",
       "1  1.000000  1.850000e-08  1.950000e-08  7.380000e-10  2.110000e-08   \n",
       "2  1.000000  1.100000e-09  8.580000e-11  1.970000e-10  7.100000e-09   \n",
       "3  0.013942  9.564525e-01  2.772120e-04  4.292692e-03  2.503524e-02   \n",
       "4  0.999881  2.290000e-05  7.940000e-06  1.400000e-06  8.660000e-05   \n",
       "\n",
       "   ground_truth  pred  \n",
       "0             0     0  \n",
       "1             0     0  \n",
       "2             0     0  \n",
       "3             0     1  \n",
       "4             0     0  "
      ]
     },
     "execution_count": 4,
     "metadata": {},
     "output_type": "execute_result"
    }
   ],
   "source": [
    "#df = pd.read_csv('csv_files/kaggle_data_aug.csv')\n",
    "df = df.reset_index(drop=True)\n",
    "df.loc[df['ground_truth'] < 1, 'ground_truth'] = 0\n",
    "df.loc[df['ground_truth'] >= 1, 'ground_truth'] = 1\n",
    "\n",
    "df.loc[df['pred'] < 1, 'pred'] = 0\n",
    "df.loc[df['pred'] >= 1, 'pred'] = 1\n",
    "df.head(5)"
   ]
  },
  {
   "cell_type": "code",
   "execution_count": 23,
   "id": "49b50c05",
   "metadata": {},
   "outputs": [
    {
     "name": "stdout",
     "output_type": "stream",
     "text": [
      "              precision    recall  f1-score   support\n",
      "\n",
      "           0       1.00      0.98      0.99       250\n",
      "           1       0.97      0.88      0.92       250\n",
      "           2       0.99      0.98      0.98       250\n",
      "           3       0.88      0.99      0.93       250\n",
      "\n",
      "    accuracy                           0.96      1000\n",
      "   macro avg       0.96      0.96      0.96      1000\n",
      "weighted avg       0.96      0.96      0.96      1000\n",
      "\n"
     ]
    }
   ],
   "source": [
    "print(classification_report(df.label,df.predictions))"
   ]
  },
  {
   "cell_type": "code",
   "execution_count": 25,
   "id": "6eedbd6e",
   "metadata": {},
   "outputs": [
    {
     "data": {
      "text/plain": [
       "0      0\n",
       "1      0\n",
       "2      0\n",
       "3      0\n",
       "4      0\n",
       "      ..\n",
       "162    4\n",
       "163    4\n",
       "164    4\n",
       "165    4\n",
       "166    4\n",
       "Name: ground_truth, Length: 167, dtype: int64"
      ]
     },
     "execution_count": 25,
     "metadata": {},
     "output_type": "execute_result"
    }
   ],
   "source": [
    "test = df.ground_truth\n",
    "pred = df.pred\n",
    "#roc_auc_score(df.ground_truth,df.pred,multi_class='ovo')\n",
    "test"
   ]
  },
  {
   "cell_type": "code",
   "execution_count": 24,
   "id": "c9cc2601",
   "metadata": {},
   "outputs": [
    {
     "data": {
      "text/plain": [
       "array([[244,   5,   0,   1],\n",
       "       [  0, 220,   1,  29],\n",
       "       [  0,   0, 245,   5],\n",
       "       [  0,   1,   2, 247]], dtype=int64)"
      ]
     },
     "execution_count": 24,
     "metadata": {},
     "output_type": "execute_result"
    }
   ],
   "source": [
    "c_6 = confusion_matrix(df.label,df.predictions)\n",
    "c_6"
   ]
  },
  {
   "cell_type": "code",
   "execution_count": 25,
   "id": "e7ac17af",
   "metadata": {},
   "outputs": [
    {
     "name": "stdout",
     "output_type": "stream",
     "text": [
      "NO. of Actual Negatives 250\n",
      "NO. of Actual Positives 750\n",
      "NO. of True Negatives 244\n",
      "NO. of False Positives 6\n",
      "No. of False Negatives 0\n",
      "No. of Trues Positives 750\n",
      "\n",
      "\n",
      "Accuracy of the model is: 0.994\n",
      "Specificty of the model is: 0.976\n",
      "Sensitivity of the model is: 1.0\n",
      "Precision of the model is: 0.9920634920634921\n",
      "Negative Precision Value is: 1.0\n",
      "kappa score of the model is: 0.9413333333333334\n",
      "f1score of the model is: 0.9960159362549801\n"
     ]
    }
   ],
   "source": [
    "# matrix formation\n",
    "TN = c_6[0,0]\n",
    "FP = c_6[0,:].sum() - TN\n",
    "FN = c_6[:,0].sum()- TN\n",
    "TP = c_6.sum().sum() - TN - FP - FN\n",
    "\n",
    "print('NO. of Actual Negatives',TN+FP)\n",
    "print('NO. of Actual Positives',TP+FN)\n",
    "\n",
    "print('NO. of True Negatives',TN)\n",
    "print('NO. of False Positives',FP)\n",
    "print('No. of False Negatives',FN)\n",
    "print('No. of Trues Positives',TP)\n",
    "print('\\n')\n",
    "\n",
    "# Performance Evlauation using these matrics\n",
    "Accuracy = (TP + TN)/c_6.sum().sum()\n",
    "specificity = TN/(TN + FP)\n",
    "sensitivity = TP/(TP + FN)\n",
    "Precision = TP/(TP + FP)\n",
    "N_Precision = TN/(TN + FN)\n",
    "kappa = cohen_kappa_score(df.label, df.predictions)\n",
    "#roc = roc_auc_score(df.ground_truth, df.pred)\n",
    "f1score = 2 * (Precision * sensitivity) / (Precision + sensitivity)\n",
    "print('Accuracy of the model is:',Accuracy)\n",
    "print('Specificty of the model is:',specificity)\n",
    "print('Sensitivity of the model is:',sensitivity)\n",
    "print('Precision of the model is:' ,Precision)\n",
    "print('Negative Precision Value is:', N_Precision)\n",
    "print('kappa score of the model is:',kappa)\n",
    "#print('AUC_ROC of the model is:', roc)\n",
    "print('f1score of the model is:', f1score)\n"
   ]
  },
  {
   "cell_type": "code",
   "execution_count": 24,
   "id": "083d8e4f",
   "metadata": {},
   "outputs": [
    {
     "name": "stdout",
     "output_type": "stream",
     "text": [
      "Accuracy of the model is: 0.857\n",
      "Specificty of the model is: 0.8093333333333333\n",
      "Sensitivity of the model is: 1.0\n",
      "Precision of the model is: 0.6361323155216285\n",
      "Negative Precision Value is: 1.0\n",
      "kappa score of the model is: 0.792\n",
      "f1score of the model is: 0.7776049766718507\n"
     ]
    }
   ],
   "source": [
    "# matrix formation for 2nd case where normal is later case\n",
    "TP = c_6[0,0]\n",
    "FN = c_6[0,:].sum() - TP\n",
    "FP = c_6[:,0].sum()- TP\n",
    "TN = c_6.sum().sum() - TP - FP - FN\n",
    "\n",
    "Accuracy = (TP + TN)/c_6.sum().sum()\n",
    "specificity = TN/(TN + FP)\n",
    "sensitivity = TP/(TP + FN)\n",
    "Precision = TP/(TP + FP)\n",
    "N_Precision = TN/(TN + FN)\n",
    "\n",
    "kappa = cohen_kappa_score(df.ground_truth, df.pred)\n",
    "#roc = roc_auc_score(df.ground_truth, df.pred)\n",
    "f1score = 2 * (Precision * sensitivity) / (Precision + sensitivity)\n",
    "print('Accuracy of the model is:',Accuracy)\n",
    "print('Specificty of the model is:',specificity)\n",
    "print('Sensitivity of the model is:',sensitivity)\n",
    "print('Precision of the model is:' ,Precision)\n",
    "print('Negative Precision Value is:', N_Precision)\n",
    "print('kappa score of the model is:',kappa)\n",
    "#print('AUC_ROC of the model is:', roc)\n",
    "print('f1score of the model is:', f1score)"
   ]
  },
  {
   "cell_type": "code",
   "execution_count": 17,
   "id": "4f9648a6",
   "metadata": {},
   "outputs": [],
   "source": [
    "import seaborn as sns\n",
    "from sklearn.utils.multiclass import unique_labels\n",
    "def plot(y,yhat):\n",
    "    labels = unique_labels(y)\n",
    "    columns  = [f'pred{label}' for label in labels]\n",
    "    indices = [f'actual {label}' for label in labels]\n",
    "    table = pd.DataFrame(confusion_matrix(y,yhat),\n",
    "                        columns = columns, index = indices)\n",
    "    return sns.heatmap(table, annot = True, fmt = 'd', cmap = 'cividis')"
   ]
  },
  {
   "cell_type": "code",
   "execution_count": 26,
   "id": "b4e71fbc",
   "metadata": {},
   "outputs": [
    {
     "data": {
      "image/png": "[encoded data removed]",
      "text/plain": [
       "<Figure size 432x288 with 2 Axes>"
      ]
     },
     "metadata": {
      "needs_background": "light"
     },
     "output_type": "display_data"
    }
   ],
   "source": [
    "mat = plot(df.label,df.predictions)"
   ]
  },
  {
   "cell_type": "code",
   "execution_count": 30,
   "id": "c7307a96",
   "metadata": {},
   "outputs": [
    {
     "data": {
      "image/png": "[encoded data removed]",
      "text/plain": [
       "<Figure size 432x288 with 2 Axes>"
      ]
     },
     "metadata": {
      "needs_background": "light"
     },
     "output_type": "display_data"
    }
   ],
   "source": [
    "mat = plot(df.ground_truth,df.pred)"
   ]
  },
  {
   "cell_type": "markdown",
   "id": "a888408f",
   "metadata": {},
   "source": [
    "## Binary"
   ]
  },
  {
   "cell_type": "code",
   "execution_count": 13,
   "id": "ea7070b4",
   "metadata": {},
   "outputs": [
    {
     "name": "stdout",
     "output_type": "stream",
     "text": [
      "count of zero by sush 102\n",
      "count of one by sush 65\n"
     ]
    }
   ],
   "source": [
    "count0_sush = (df['pred'] == 0).sum()\n",
    "count1_sush = (df['pred'] == 1).sum()\n",
    "print('count of zero by sush',count0_sush)\n",
    "print('count of one by sush', count1_sush)"
   ]
  },
  {
   "cell_type": "code",
   "execution_count": 14,
   "id": "22306faa",
   "metadata": {},
   "outputs": [
    {
     "name": "stdout",
     "output_type": "stream",
     "text": [
      "count of zero by Aalam 53\n",
      "count of one by Aalam 114\n"
     ]
    }
   ],
   "source": [
    "count0_sush = (df['ground_truth'] == 0).sum()\n",
    "count1_sush = (df['ground_truth'] == 1).sum()\n",
    "print('count of zero by Aalam',count0_sush)\n",
    "print('count of one by Aalam', count1_sush)"
   ]
  },
  {
   "cell_type": "markdown",
   "id": "07f3267e",
   "metadata": {},
   "source": [
    "### Multi-class by sushruta"
   ]
  },
  {
   "cell_type": "code",
   "execution_count": 15,
   "id": "17337ca9",
   "metadata": {},
   "outputs": [
    {
     "name": "stdout",
     "output_type": "stream",
     "text": [
      "count of DR0 by sush 102\n",
      "count of DR1 by sush 65\n",
      "count of DR2 by sush 0\n",
      "count of DR3 by sush 0\n",
      "count of DR4 by sush 0\n"
     ]
    }
   ],
   "source": [
    "count0_sush = (df['pred'] == 0).sum()\n",
    "count1_sush = (df['pred'] == 1).sum()\n",
    "count2_sush = (df['pred'] == 2).sum()\n",
    "count3_sush = (df['pred'] == 3).sum()\n",
    "count4_sush = (df['pred'] == 4).sum()\n",
    "print('count of DR0 by sush',count0_sush)\n",
    "print('count of DR1 by sush', count1_sush)\n",
    "print('count of DR2 by sush',count2_sush)\n",
    "print('count of DR3 by sush', count3_sush)\n",
    "print('count of DR4 by sush', count4_sush)"
   ]
  },
  {
   "cell_type": "markdown",
   "id": "e02a1282",
   "metadata": {},
   "source": [
    "## Multi-class for Aalam"
   ]
  },
  {
   "cell_type": "code",
   "execution_count": 16,
   "id": "9225d9b1",
   "metadata": {},
   "outputs": [
    {
     "name": "stdout",
     "output_type": "stream",
     "text": [
      "count of DR0 by Aalam 53\n",
      "count of DR1 by Aalam 114\n",
      "count of DR2 by Aalam 0\n",
      "count of DR3 by Aalam 0\n",
      "count of DR4 by Aalam 0\n"
     ]
    }
   ],
   "source": [
    "count0_sush = (df['ground_truth'] == 0).sum()\n",
    "count1_sush = (df['ground_truth'] == 1).sum()\n",
    "count2_sush = (df['ground_truth'] == 2).sum()\n",
    "count3_sush = (df['ground_truth'] == 3).sum()\n",
    "count4_sush = (df['ground_truth'] == 4).sum()\n",
    "print('count of DR0 by Aalam',count0_sush)\n",
    "print('count of DR1 by Aalam', count1_sush)\n",
    "print('count of DR2 by Aalam',count2_sush)\n",
    "print('count of DR3 by Aalam', count3_sush)\n",
    "print('count of DR4 by Aalam', count4_sush)"
   ]
  }
 ],
 "metadata": {
  "kernelspec": {
   "display_name": "Python 3.10.0 ('.venv': venv)",
   "language": "python",
   "name": "python3"
  },
  "language_info": {
   "codemirror_mode": {
    "name": "ipython",
    "version": 3
   },
   "file_extension": ".py",
   "mimetype": "text/x-python",
   "name": "python",
   "nbconvert_exporter": "python",
   "pygments_lexer": "ipython3",
   "version": "3.10.0"
  },
  "vscode": {
   "interpreter": {
    "hash": "d66e6cdf3a7ece67947208b0284bca2ed5d097824194cc0f401da56da21efd07"
   }
  }
 },
 "nbformat": 4,
 "nbformat_minor": 5
}
