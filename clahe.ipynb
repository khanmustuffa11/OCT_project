{
 "cells": [
  {
   "cell_type": "code",
   "execution_count": 1,
   "metadata": {},
   "outputs": [
    {
     "ename": "TypeError",
     "evalue": "Can't convert object to 'str' for 'filename'",
     "output_type": "error",
     "traceback": [
      "\u001b[1;31m---------------------------------------------------------------------------\u001b[0m",
      "\u001b[1;31mTypeError\u001b[0m                                 Traceback (most recent call last)",
      "Cell \u001b[1;32mIn[1], line 20\u001b[0m\n\u001b[0;32m     17\u001b[0m input_image \u001b[39m=\u001b[39m cv2\u001b[39m.\u001b[39mimread(\u001b[39m'\u001b[39m\u001b[39mNORMAL-1384-1.jpeg\u001b[39m\u001b[39m'\u001b[39m)\n\u001b[0;32m     19\u001b[0m \u001b[39m# Decrease red levels in the image\u001b[39;00m\n\u001b[1;32m---> 20\u001b[0m output_image \u001b[39m=\u001b[39m apply_clahe(input_image)\n\u001b[0;32m     22\u001b[0m \u001b[39m# Save the modified image\u001b[39;00m\n\u001b[0;32m     23\u001b[0m cv2\u001b[39m.\u001b[39mimwrite(\u001b[39m'\u001b[39m\u001b[39mNORMAL-1384-1_modified.jpg\u001b[39m\u001b[39m'\u001b[39m, output_image)\n",
      "Cell \u001b[1;32mIn[1], line 7\u001b[0m, in \u001b[0;36mapply_clahe\u001b[1;34m(image)\u001b[0m\n\u001b[0;32m      5\u001b[0m \u001b[39mdef\u001b[39;00m \u001b[39mapply_clahe\u001b[39m(image):\n\u001b[0;32m      6\u001b[0m     \u001b[39m# Load grayscale image\u001b[39;00m\n\u001b[1;32m----> 7\u001b[0m     img \u001b[39m=\u001b[39m cv2\u001b[39m.\u001b[39;49mimread(image, cv2\u001b[39m.\u001b[39;49mIMREAD_GRAYSCALE)\n\u001b[0;32m      9\u001b[0m     \u001b[39m# Apply CLAHE\u001b[39;00m\n\u001b[0;32m     10\u001b[0m     clahe \u001b[39m=\u001b[39m cv2\u001b[39m.\u001b[39mcreateCLAHE(clipLimit\u001b[39m=\u001b[39m\u001b[39m2.0\u001b[39m, tileGridSize\u001b[39m=\u001b[39m(\u001b[39m8\u001b[39m,\u001b[39m8\u001b[39m))\n",
      "\u001b[1;31mTypeError\u001b[0m: Can't convert object to 'str' for 'filename'"
     ]
    }
   ],
   "source": [
    "import cv2\n",
    "import numpy as np\n",
    "import cv2 \n",
    "\n",
    "def apply_clahe(image):\n",
    "    # Load grayscale image\n",
    "    img = cv2.imread(image, cv2.IMREAD_GRAYSCALE)\n",
    "\n",
    "    # Apply CLAHE\n",
    "    clahe = cv2.createCLAHE(clipLimit=2.0, tileGridSize=(8,8))\n",
    "    clahe_img = clahe.apply(img)\n",
    "\n",
    "    \n",
    "    return clahe_img\n",
    "\n",
    "# Load your image\n",
    "input_image = cv2.imread('NORMAL-1384-1.jpeg')\n",
    "\n",
    "# Decrease red levels in the image\n",
    "output_image = apply_clahe(input_image)\n",
    "\n",
    "# Save the modified image\n",
    "cv2.imwrite('NORMAL-1384-1_modified.jpg', output_image)"
   ]
  },
  {
   "cell_type": "code",
   "execution_count": null,
   "metadata": {},
   "outputs": [],
   "source": []
  },
  {
   "cell_type": "code",
   "execution_count": 3,
   "metadata": {},
   "outputs": [],
   "source": [
    "import cv2\n",
    "\n",
    "# Load grayscale image\n",
    "img = cv2.imread('NORMAL-1384-1.jpeg', cv2.IMREAD_GRAYSCALE)\n",
    "\n",
    "# Apply CLAHE\n",
    "clahe = cv2.createCLAHE(clipLimit=2.0, tileGridSize=(8,8))\n",
    "clahe_img = clahe.apply(img)\n",
    "\n",
    "# Display original and CLAHE images\n",
    "cv2.imshow('Original', img)\n",
    "cv2.imshow('CLAHE', clahe_img)\n",
    "cv2.waitKey(0)\n",
    "cv2.destroyAllWindows()\n"
   ]
  },
  {
   "cell_type": "code",
   "execution_count": null,
   "metadata": {},
   "outputs": [],
   "source": [
    "import cv2\n",
    "import os\n",
    "import tqdm\n",
    "\n",
    "# Define the path of the input and output folders\n",
    "img_dir = \"C:\\\\Users\\\\mkhan\\\\Desktop\\\\model_testing\\\\Dubai_751\\\\africa_study\\dubai_data_234\\\\\"\n",
    "#img_dir = \"C:\\\\Users\\\\mkhan\\\\Desktop\\\\model_testing\\\\Dubai_751\\\\africa_study\\\\dubai_data_234\\\\\"\n",
    "out_dir = \"C:\\\\Users\\\\mkhan\\\\Desktop\\\\model_testing\\\\Dubai_751\\\\africa_study\\dubai_data_234_clahe\\\\\"\n",
    "\n",
    "#out_dir = \"C:\\\\Users\\\\mkhan\\\\Desktop\\\\model_testing\\\\Dubai_751\\\\africa_study\\\\dubai_data_234_clahe\\\\\"\n",
    "\n",
    "# Create the output folder if it doesn't exist\n",
    "# if not os.path.exists(output_folder):\n",
    "#     os.makedirs(output_folder)\n",
    "\n",
    "### Function to apply CLAHE \n",
    "def apply_clahe(image):\n",
    "    # Convert the image to LAB color space\n",
    "    lab_image = cv2.cvtColor(image, cv2.COLOR_BGR2LAB)\n",
    "\n",
    "    # Split the LAB image into L, A, and B channels\n",
    "    l, a, b = cv2.split(lab_image)\n",
    "\n",
    "    # Apply CLAHE to the L channel\n",
    "    clahe = cv2.createCLAHE(clipLimit=2.0, tileGridSize=(8, 8))\n",
    "    l_clahe = clahe.apply(l)\n",
    "\n",
    "    # Merge the modified L channel with the original A and B channels\n",
    "    lab_clahe_image = cv2.merge((l_clahe, a, b))\n",
    "\n",
    "    # Convert the image back to BGR format\n",
    "    modified_image = cv2.cvtColor(lab_clahe_image, cv2.COLOR_LAB2BGR)\n",
    "\n",
    "    return modified_image\n",
    "\n",
    "# Loop through all images in the input folder\n",
    "for filename in os.listdir(img_dir):\n",
    "    # Read the image\n",
    "    img = cv2.imread(os.path.join(img_dir, filename))\n",
    "    print(filename)\n",
    "    print(img.shape)\n",
    "    \n",
    "    equalized = apply_clahe(img)\n",
    "    \n",
    "    # Save the processed image to the output folder\n",
    "    cv2.imwrite(os.path.join(out_dir, filename), equalized)\n",
    "    \n",
    "    # Print a message to show progress\n",
    "    #print(f\"Processed {filename}\")"
   ]
  }
 ],
 "metadata": {
  "kernelspec": {
   "display_name": "tensorflow2",
   "language": "python",
   "name": "python3"
  },
  "language_info": {
   "codemirror_mode": {
    "name": "ipython",
    "version": 3
   },
   "file_extension": ".py",
   "mimetype": "text/x-python",
   "name": "python",
   "nbconvert_exporter": "python",
   "pygments_lexer": "ipython3",
   "version": "3.9.16"
  },
  "orig_nbformat": 4
 },
 "nbformat": 4,
 "nbformat_minor": 2
}
