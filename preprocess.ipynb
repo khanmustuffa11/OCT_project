{
 "cells": [
  {
   "cell_type": "code",
   "execution_count": 33,
   "metadata": {},
   "outputs": [],
   "source": [
    "import pandas as pd\n",
    "import numpy as np\n",
    "import os\n",
    "import math\n",
    "from sklearn.metrics import classification_report, confusion_matrix"
   ]
  },
  {
   "cell_type": "code",
   "execution_count": 34,
   "metadata": {},
   "outputs": [],
   "source": [
    "df = pd.read_csv('C:/Users/mkhan/Desktop/musabi/OCT_project/data/oct/oct_artelus/OCT_artelus_testw.csv')"
   ]
  },
  {
   "cell_type": "code",
   "execution_count": 3,
   "metadata": {},
   "outputs": [
    {
     "data": {
      "text/html": [
       "<div>\n",
       "<style scoped>\n",
       "    .dataframe tbody tr th:only-of-type {\n",
       "        vertical-align: middle;\n",
       "    }\n",
       "\n",
       "    .dataframe tbody tr th {\n",
       "        vertical-align: top;\n",
       "    }\n",
       "\n",
       "    .dataframe thead th {\n",
       "        text-align: right;\n",
       "    }\n",
       "</style>\n",
       "<table border=\"1\" class=\"dataframe\">\n",
       "  <thead>\n",
       "    <tr style=\"text-align: right;\">\n",
       "      <th></th>\n",
       "      <th>image</th>\n",
       "      <th>label</th>\n",
       "    </tr>\n",
       "  </thead>\n",
       "  <tbody>\n",
       "    <tr>\n",
       "      <th>0</th>\n",
       "      <td>image_normal_0_0.tiff</td>\n",
       "      <td>0</td>\n",
       "    </tr>\n",
       "    <tr>\n",
       "      <th>1</th>\n",
       "      <td>image_normal_0_1.tiff</td>\n",
       "      <td>0</td>\n",
       "    </tr>\n",
       "    <tr>\n",
       "      <th>2</th>\n",
       "      <td>image_normal_0_10.tiff</td>\n",
       "      <td>0</td>\n",
       "    </tr>\n",
       "    <tr>\n",
       "      <th>3</th>\n",
       "      <td>image_normal_0_12.tiff</td>\n",
       "      <td>0</td>\n",
       "    </tr>\n",
       "    <tr>\n",
       "      <th>4</th>\n",
       "      <td>image_normal_0_14.tiff</td>\n",
       "      <td>0</td>\n",
       "    </tr>\n",
       "  </tbody>\n",
       "</table>\n",
       "</div>"
      ],
      "text/plain": [
       "                    image  label\n",
       "0   image_normal_0_0.tiff      0\n",
       "1   image_normal_0_1.tiff      0\n",
       "2  image_normal_0_10.tiff      0\n",
       "3  image_normal_0_12.tiff      0\n",
       "4  image_normal_0_14.tiff      0"
      ]
     },
     "execution_count": 3,
     "metadata": {},
     "output_type": "execute_result"
    }
   ],
   "source": [
    "df.head()"
   ]
  },
  {
   "cell_type": "code",
   "execution_count": 35,
   "metadata": {},
   "outputs": [],
   "source": [
    "# combining the image and label for training\n",
    "df2 = df.assign(path='data/oct/oct_artelus/test/'+df['label'].astype(str)+'/'+df['image'].astype(str))"
   ]
  },
  {
   "cell_type": "code",
   "execution_count": 36,
   "metadata": {},
   "outputs": [],
   "source": [
    "df2['source']='oct_artelus'"
   ]
  },
  {
   "cell_type": "code",
   "execution_count": 34,
   "metadata": {},
   "outputs": [],
   "source": [
    "#one_hot = pd.get_dummies(df['Finding Labels'])\n",
    "#one_hot.head()\n",
    "#df = pd.concat([df,one_hot],axis=1)"
   ]
  },
  {
   "cell_type": "code",
   "execution_count": 37,
   "metadata": {},
   "outputs": [],
   "source": [
    "df2.to_csv('C:/Users/mkhan/Desktop/musabi/OCT_project/data/oct/oct_artelus/OCT_artelus_testw_csv.csv')"
   ]
  },
  {
   "cell_type": "markdown",
   "metadata": {},
   "source": [
    "## Splitting the data into train and test from CSv"
   ]
  },
  {
   "cell_type": "code",
   "execution_count": 27,
   "metadata": {},
   "outputs": [],
   "source": [
    "df = pd.read_csv('C:/Users/mkhan/Desktop/musabi/OCT_project/data/oct/train.csv')\n",
    "total_size = len(df)\n",
    "train_size =math.floor(0.80*total_size)"
   ]
  },
  {
   "cell_type": "code",
   "execution_count": null,
   "metadata": {},
   "outputs": [],
   "source": [
    "#shuffle the data before splitting\n",
    "from sklearn.utils import shuffle\n",
    "df =shuffle(df)"
   ]
  },
  {
   "cell_type": "code",
   "execution_count": 31,
   "metadata": {},
   "outputs": [],
   "source": [
    "#splitting into train and test\n",
    "train =df.head(train_size)\n",
    "test = df.tail(len(df) - train_size)\n",
    "train.to_csv('C:/Users/mkhan/Desktop/musabi/OCT_project/data/covid_pneu/training_csv.csv')\n",
    "test.to_csv('C:/Users/mkhan/Desktop/musabi/OCT_project/data/covid_pneu/testing_csv.csv')"
   ]
  },
  {
   "cell_type": "markdown",
   "metadata": {},
   "source": [
    "### Merging CSVS"
   ]
  },
  {
   "cell_type": "code",
   "execution_count": 38,
   "metadata": {},
   "outputs": [
    {
     "name": "stdout",
     "output_type": "stream",
     "text": [
      "      Unnamed: 0                image  label  \\\n",
      "0            0.0          AMRD24.tiff      4   \n",
      "1            1.0          AMRD33.tiff      4   \n",
      "2            2.0  image_amd_0_16.tiff      4   \n",
      "3            3.0  image_amd_0_19.tiff      4   \n",
      "4            4.0  image_amd_10_0.tiff      4   \n",
      "...          ...                  ...    ...   \n",
      "1148         NaN   CNV-9782524-1.jpeg      3   \n",
      "1149         NaN   CNV-9782524-2.jpeg      3   \n",
      "1150         NaN   CNV-9806464-1.jpeg      3   \n",
      "1151         NaN   CNV-9929999-1.jpeg      3   \n",
      "1152         NaN   CNV-9971412-1.jpeg      3   \n",
      "\n",
      "                                                 path       source  \n",
      "0             data/oct/oct_artelus/test/4/AMRD24.tiff  oct_artelus  \n",
      "1             data/oct/oct_artelus/test/4/AMRD33.tiff  oct_artelus  \n",
      "2     data/oct/oct_artelus/test/4/image_amd_0_16.tiff  oct_artelus  \n",
      "3     data/oct/oct_artelus/test/4/image_amd_0_19.tiff  oct_artelus  \n",
      "4     data/oct/oct_artelus/test/4/image_amd_10_0.tiff  oct_artelus  \n",
      "...                                               ...          ...  \n",
      "1148               data/oct/test/3/CNV-9782524-1.jpeg          NaN  \n",
      "1149               data/oct/test/3/CNV-9782524-2.jpeg          NaN  \n",
      "1150               data/oct/test/3/CNV-9806464-1.jpeg          NaN  \n",
      "1151               data/oct/test/3/CNV-9929999-1.jpeg          NaN  \n",
      "1152               data/oct/test/3/CNV-9971412-1.jpeg          NaN  \n",
      "\n",
      "[1153 rows x 5 columns]\n"
     ]
    }
   ],
   "source": [
    "\n",
    "# importing pandas\n",
    "import pandas as pd\n",
    "  \n",
    "# merging two csv files\n",
    "df = pd.concat(\n",
    "    map(pd.read_csv, ['C:/Users/mkhan/Desktop/musabi/OCT_project/data/oct/oct_artelus/OCT_artelus_testw_csv.csv', 'C:/Users/mkhan/Desktop/musabi/OCT_project/data/oct/test_csv.csv']), ignore_index=True)\n",
    "print(df)"
   ]
  },
  {
   "cell_type": "code",
   "execution_count": 32,
   "metadata": {},
   "outputs": [],
   "source": [
    "df.to_csv('C:/Users/mkhan/Desktop/musabi/OCT_project/data/oct/oct_artelus/OCT_final_testwcsv.csv')"
   ]
  },
  {
   "cell_type": "code",
   "execution_count": null,
   "metadata": {},
   "outputs": [],
   "source": []
  }
 ],
 "metadata": {
  "kernelspec": {
   "display_name": "Python 3.9.12 ('tensorflow')",
   "language": "python",
   "name": "python3"
  },
  "language_info": {
   "codemirror_mode": {
    "name": "ipython",
    "version": 3
   },
   "file_extension": ".py",
   "mimetype": "text/x-python",
   "name": "python",
   "nbconvert_exporter": "python",
   "pygments_lexer": "ipython3",
   "version": "3.9.12"
  },
  "orig_nbformat": 4,
  "vscode": {
   "interpreter": {
    "hash": "491216a90d9ccddf73174438dfa7c71ef1a34a60a23da96945ef2862505b252f"
   }
  }
 },
 "nbformat": 4,
 "nbformat_minor": 2
}
